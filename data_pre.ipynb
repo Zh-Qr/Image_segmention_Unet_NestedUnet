{
 "cells": [
  {
   "cell_type": "markdown",
   "id": "b7f6ba28-560e-4cfb-9b60-6274a208ec13",
   "metadata": {},
   "source": [
    "# 数据预处理操作"
   ]
  },
  {
   "cell_type": "markdown",
   "id": "9f93b723-2f30-40ef-b567-9481e7920030",
   "metadata": {},
   "source": [
    "### 环境准备 "
   ]
  },
  {
   "cell_type": "code",
   "execution_count": null,
   "id": "5e889dc6-963e-427f-9f23-d961c0248f80",
   "metadata": {},
   "outputs": [],
   "source": [
    "import numpy as np # linear algebra\n",
    "import pandas as pd # data processing, CSV file I/O (e.g. pd.read_csv)\n",
    "import random\n",
    "import matplotlib.pyplot as plt\n",
    "from tensorflow import keras\n",
    "from tensorflow.keras import backend as K\n",
    "from tensorflow.keras.layers import Input, Conv2D, MaxPooling2D, concatenate, Conv2DTranspose, BatchNormalization, Activation, Dropout\n",
    "from tensorflow.keras.optimizers import Adadelta, Nadam ,Adam\n",
    "from tensorflow.keras.models import Model, load_model\n",
    "from tensorflow.keras.utils import  plot_model ,Sequence\n",
    "from tensorflow.keras.callbacks import TensorBoard, ModelCheckpoint, EarlyStopping, ReduceLROnPlateau\n",
    "from tensorflow.keras.preprocessing.image import load_img,img_to_array\n",
    "import tensorflow as tf\n",
    "from tensorflow.python.keras.losses import binary_crossentropy\n",
    "from scipy.ndimage import morphology as mp\n",
    "from PIL import Image,UnidentifiedImageError\n",
    "# Input data files are available in the \"../input/\" directory.\n",
    "# For example, running this (by clicking run or pressing Shift+Enter) will list the files in the input directory\n",
    "import shutil\n",
    "import os\n",
    "from glob import glob  # for getting list paths of image and labels\n",
    "from random import choice,sample\n",
    "from matplotlib import pyplot as plt\n",
    "import cv2 # saving and loading images"
   ]
  },
  {
   "cell_type": "markdown",
   "id": "4a386c09-aa7b-40f1-8361-fc58c762b08d",
   "metadata": {},
   "source": [
    "### 将seq图片转移到待训练文件夹下"
   ]
  },
  {
   "cell_type": "code",
   "execution_count": null,
   "id": "72da564a-9d5a-4f50-8c94-112c628404b5",
   "metadata": {},
   "outputs": [],
   "source": [
    "source_path = '../autodl-tmp/Endovis18/Train'\n",
    "output_dir = os.path.join(source_path, 'images')\n",
    "\n",
    "# Create the output directory if it doesn't exist\n",
    "if not os.path.exists(output_dir):\n",
    "    os.makedirs(output_dir)\n",
    "\n",
    "def is_image_corrupted(filepath):\n",
    "    \"\"\"检查图像是否损坏。\"\"\"\n",
    "    try:\n",
    "        with Image.open(filepath) as img:\n",
    "            img.verify()  # 检查文件是否损坏\n",
    "        return False\n",
    "    except (IOError, SyntaxError) as e:\n",
    "        print(f'Corrupted image {filepath}: {e}')\n",
    "        return True\n",
    "\n",
    "for seq in os.listdir(source_path):\n",
    "    if seq in ['pixeled_annotations_train', 'images']:\n",
    "        continue  # Skip special directories\n",
    "    seq_path = os.path.join(source_path, seq)\n",
    "    img_folder_path = os.path.join(seq_path, \"left_frames\")\n",
    "    if not os.path.isdir(img_folder_path):\n",
    "        continue  # Skip if it's not a directory\n",
    "    for f in os.listdir(img_folder_path):\n",
    "        _, file_extension = os.path.splitext(f)\n",
    "        if file_extension.lower() not in ['.jpg', '.png']:\n",
    "            continue  # Skip non-image files\n",
    "        file_path = os.path.join(img_folder_path, f)\n",
    "        if is_image_corrupted(file_path):\n",
    "            continue  # Skip copying if the image is corrupted\n",
    "        output_file_path = os.path.join(output_dir, f\"{seq}_{f}\")\n",
    "        # Copy file to the new location\n",
    "        shutil.copy(file_path, output_file_path)\n",
    "    print(f\"Copied {seq} to {output_dir}\")"
   ]
  },
  {
   "cell_type": "markdown",
   "id": "28884f47-250f-4cf0-96dd-0a49b0097fb5",
   "metadata": {},
   "source": [
    "### 删除不符合规定的文件（隐藏文件）"
   ]
  },
  {
   "cell_type": "code",
   "execution_count": null,
   "id": "4372ae20-acb6-43c1-95f9-f5fa605f7e5f",
   "metadata": {},
   "outputs": [],
   "source": [
    "def verify_and_delete_images(directory):\n",
    "    files_in_directory = os.listdir(directory)\n",
    "    for file in files_in_directory:\n",
    "        if file.lower().endswith(('.png', '.jpg', '.jpeg')):\n",
    "            file_path = os.path.join(directory, file)\n",
    "            try:\n",
    "                img = Image.open(file_path)\n",
    "                img.verify()  # Verify that this is an image\n",
    "            except (IOError, SyntaxError) as e:\n",
    "                print(f\"Deleting corrupt file: {file_path} ({e})\")\n",
    "                os.remove(file_path)  # Delete corrupt file\n",
    "\n",
    "# Example usage\n",
    "train_img_dir = '../autodl-tmp/Endovis18/Train/images/'\n",
    "train_mask_dir = '../autodl-tmp/Endovis18/Train/pixeled_annotations_train/'\n",
    "verify_and_delete_images(train_img_dir)\n",
    "verify_and_delete_images(train_mask_dir)"
   ]
  },
  {
   "cell_type": "markdown",
   "id": "bb1636dc-9b47-49c6-ba15-dbf84b64251b",
   "metadata": {},
   "source": [
    "### 删除不同数据（确保训练图片和标注图片对应）"
   ]
  },
  {
   "cell_type": "code",
   "execution_count": null,
   "id": "756f1762-277e-455d-9f29-658f4217f456",
   "metadata": {},
   "outputs": [],
   "source": [
    "train_imgs = os.listdir(train_img_dir)\n",
    "train_masks = os.listdir(train_mask_dir)\n",
    "train_imgs= sorted([ i for i in train_imgs ])\n",
    "train_masks= sorted([ i for i in train_masks ])\n",
    "\n",
    "print(\"Number of images:\", len(train_imgs))\n",
    "print(\"Number of masks:\", len(train_masks))\n",
    "\n",
    "if len(train_imgs) != len(train_masks):\n",
    "    print(\"The number of images and masks are not equal.\")\n",
    "\n",
    "    # 使用文件名，因为列表直接包含文件名\n",
    "    img_set = set(train_imgs)\n",
    "    mask_set = set(train_masks)\n",
    "\n",
    "    extra_imgs = img_set - mask_set\n",
    "    extra_masks = mask_set - img_set\n",
    "\n",
    "    print(\"Extra images:\", extra_imgs)\n",
    "    print(\"Extra masks:\", extra_masks)\n",
    "\n",
    "    # 从图像和掩码列表中移除多余的条目\n",
    "    train_imgs = [img for img in train_imgs if img not in extra_imgs]\n",
    "    train_masks = [mask for mask in train_masks if mask not in extra_masks]\n",
    "\n",
    "    print(\"Updated number of images:\", len(train_imgs))\n",
    "    print(\"Updated number of masks:\", len(train_masks))"
   ]
  },
  {
   "cell_type": "markdown",
   "id": "6ee2d73f-81be-497b-8905-00ef2624a882",
   "metadata": {},
   "source": [
    "## 数据准备完毕，分为原始图片（images）和标注图片（masks）"
   ]
  },
  {
   "cell_type": "code",
   "execution_count": null,
   "id": "1cba398b-230b-4bbb-8f3f-022cfa4a04c8",
   "metadata": {},
   "outputs": [],
   "source": []
  }
 ],
 "metadata": {
  "kernelspec": {
   "display_name": "Python 3 (ipykernel)",
   "language": "python",
   "name": "python3"
  },
  "language_info": {
   "codemirror_mode": {
    "name": "ipython",
    "version": 3
   },
   "file_extension": ".py",
   "mimetype": "text/x-python",
   "name": "python",
   "nbconvert_exporter": "python",
   "pygments_lexer": "ipython3",
   "version": "3.8.10"
  }
 },
 "nbformat": 4,
 "nbformat_minor": 5
}
