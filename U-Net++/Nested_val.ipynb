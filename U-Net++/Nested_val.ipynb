{
 "cells": [
  {
   "cell_type": "markdown",
   "id": "811ac67b-567f-43a4-8d6e-d3cf2235ea72",
   "metadata": {},
   "source": [
    "# 模型验证 "
   ]
  },
  {
   "cell_type": "code",
   "execution_count": 1,
   "id": "58ad0da1-819c-490b-ba7d-367ceba71d0c",
   "metadata": {
    "tags": []
   },
   "outputs": [
    {
     "name": "stderr",
     "output_type": "stream",
     "text": [
      "2024-07-24 16:26:15.795493: I tensorflow/core/util/port.cc:110] oneDNN custom operations are on. You may see slightly different numerical results due to floating-point round-off errors from different computation orders. To turn them off, set the environment variable `TF_ENABLE_ONEDNN_OPTS=0`.\n",
      "2024-07-24 16:26:15.852530: I tensorflow/core/platform/cpu_feature_guard.cc:182] This TensorFlow binary is optimized to use available CPU instructions in performance-critical operations.\n",
      "To enable the following instructions: AVX2 AVX512F AVX512_VNNI FMA, in other operations, rebuild TensorFlow with the appropriate compiler flags.\n",
      "2024-07-24 16:26:16.723658: W tensorflow/compiler/tf2tensorrt/utils/py_utils.cc:38] TF-TRT Warning: Could not find TensorRT\n"
     ]
    },
    {
     "name": "stdout",
     "output_type": "stream",
     "text": [
      "环境准备完毕\n"
     ]
    }
   ],
   "source": [
    "import numpy as np # linear algebra\n",
    "import pandas as pd # data processing, CSV file I/O (e.g. pd.read_csv)\n",
    "import random\n",
    "import matplotlib.pyplot as plt\n",
    "from tensorflow import keras\n",
    "from tensorflow.keras import backend as K\n",
    "from tensorflow.keras.layers import Input, Conv2D, MaxPooling2D, concatenate, Conv2DTranspose, BatchNormalization, Activation, Dropout\n",
    "from tensorflow.keras.optimizers import Adadelta, Nadam ,Adam\n",
    "from tensorflow.keras.models import Model, load_model\n",
    "from tensorflow.keras.utils import  plot_model ,Sequence\n",
    "from tensorflow.keras.callbacks import TensorBoard, ModelCheckpoint, EarlyStopping, ReduceLROnPlateau\n",
    "from tensorflow.keras.preprocessing.image import load_img,img_to_array\n",
    "import tensorflow as tf\n",
    "from tensorflow.python.keras.losses import binary_crossentropy\n",
    "from tensorflow.keras.models import Model\n",
    "from tensorflow.keras.layers import Input, Conv2D, MaxPooling2D, UpSampling2D, concatenate, Dropout, BatchNormalization, Activation, Conv2DTranspose\n",
    "from scipy.ndimage import morphology as mp\n",
    "from PIL import Image,UnidentifiedImageError\n",
    "from sklearn.model_selection import train_test_split\n",
    "# Input data files are available in the \"../input/\" directory.\n",
    "# For example, running this (by clicking run or pressing Shift+Enter) will list the files in the input directory\n",
    "import shutil\n",
    "import os\n",
    "from glob import glob  # for getting list paths of image and labels\n",
    "from random import choice,sample\n",
    "from matplotlib import pyplot as plt\n",
    "import cv2 # saving and loading images\n",
    "\n",
    "print(\"环境准备完毕\")"
   ]
  },
  {
   "cell_type": "markdown",
   "id": "45857517-ebed-4547-a2bf-67e6585d6e33",
   "metadata": {},
   "source": [
    "### 网络搭建 "
   ]
  },
  {
   "cell_type": "code",
   "execution_count": 2,
   "id": "8b1b974c-5b3d-4d83-bcf1-42faa6b0c233",
   "metadata": {
    "tags": []
   },
   "outputs": [],
   "source": [
    "def conv_block(tensor, nfilters, size=3, padding='same', initializer=\"he_normal\"):\n",
    "    x = Conv2D(filters=nfilters, kernel_size=(size, size), padding=padding, kernel_initializer=initializer)(tensor)\n",
    "    x = BatchNormalization()(x)\n",
    "    x = Activation(\"relu\")(x)\n",
    "    x = Conv2D(filters=nfilters, kernel_size=(size, size), padding=padding, kernel_initializer=initializer)(x)\n",
    "    x = BatchNormalization()(x)\n",
    "    x = Activation(\"relu\")(x)\n",
    "    return x\n",
    "\n",
    "\n",
    "def deconv_block(tensor, residual, nfilters, size=3, padding='same', strides=(2, 2)):\n",
    "    y = Conv2DTranspose(nfilters, kernel_size=(size, size), strides=strides, padding=padding)(tensor)\n",
    "    y = concatenate([y, residual], axis=3)\n",
    "    y = conv_block(y, nfilters)\n",
    "    return y\n",
    "\n",
    "\n",
    "def Unet(h, w, filters):\n",
    "# down\n",
    "    input_layer = Input(shape=(h, w, 3), name='image_input')\n",
    "    conv1 = conv_block(input_layer, nfilters=filters)\n",
    "    conv1_out = MaxPooling2D(pool_size=(2, 2))(conv1)\n",
    "    conv2 = conv_block(conv1_out, nfilters=filters*2)\n",
    "    conv2_out = MaxPooling2D(pool_size=(2, 2))(conv2)\n",
    "    conv3 = conv_block(conv2_out, nfilters=filters*4)\n",
    "    conv3_out = MaxPooling2D(pool_size=(2, 2))(conv3)\n",
    "    conv4 = conv_block(conv3_out, nfilters=filters*8)\n",
    "    conv4_out = MaxPooling2D(pool_size=(2, 2))(conv4)\n",
    "    conv4_out = Dropout(0.5)(conv4_out)\n",
    "    conv5 = conv_block(conv4_out, nfilters=filters*16)\n",
    "    conv5 = Dropout(0.5)(conv5)\n",
    "# up\n",
    "    deconv6 = deconv_block(conv5, residual=conv4, nfilters=filters*8)\n",
    "    deconv6 = Dropout(0.5)(deconv6)\n",
    "    deconv7 = deconv_block(deconv6, residual=conv3, nfilters=filters*4)\n",
    "    deconv7 = Dropout(0.5)(deconv7) \n",
    "    deconv8 = deconv_block(deconv7, residual=conv2, nfilters=filters*2)\n",
    "    deconv9 = deconv_block(deconv8, residual=conv1, nfilters=filters)\n",
    "    output_layer = Conv2D(filters=1, kernel_size=(1, 1), activation='sigmoid')(deconv9)\n",
    "    # using sigmoid activation for binary classification\n",
    "    model = Model(inputs=input_layer, outputs=output_layer, name='Unet')\n",
    "    return model"
   ]
  },
  {
   "cell_type": "markdown",
   "id": "54f99048-dece-49d0-9d4b-f15835519c74",
   "metadata": {},
   "source": [
    "#### **Nest-Unet** "
   ]
  },
  {
   "cell_type": "code",
   "execution_count": 3,
   "id": "51c8a2f7-4722-47b8-a654-5db84c596bca",
   "metadata": {
    "tags": []
   },
   "outputs": [],
   "source": [
    "def conv_block(input_tensor, num_filters):\n",
    "    x = Conv2D(num_filters, (3, 3), padding='same')(input_tensor)\n",
    "    x = BatchNormalization()(x)\n",
    "    x = Activation('relu')(x)\n",
    "    x = Conv2D(num_filters, (3, 3), padding='same')(x)\n",
    "    x = BatchNormalization()(x)\n",
    "    x = Activation('relu')(x)\n",
    "    return x\n",
    "\n",
    "def upsample_concat_block(input_tensor, skip_tensor, num_filters):\n",
    "    x = UpSampling2D((2, 2))(input_tensor)\n",
    "    x = concatenate([x, skip_tensor])\n",
    "    x = conv_block(x, num_filters)\n",
    "    return x\n",
    "\n",
    "def NestedUNet(input_shape, num_filters=64, dropout_rate=0.5):\n",
    "    inputs = Input(input_shape)\n",
    "\n",
    "    # Encoder (downsampling)\n",
    "    conv1 = conv_block(inputs, num_filters)\n",
    "    pool1 = MaxPooling2D(pool_size=(2, 2))(conv1)\n",
    "\n",
    "    conv2 = conv_block(pool1, num_filters*2)\n",
    "    pool2 = MaxPooling2D(pool_size=(2, 2))(conv2)\n",
    "\n",
    "    conv3 = conv_block(pool2, num_filters*4)\n",
    "    pool3 = MaxPooling2D(pool_size=(2, 2))(conv3)\n",
    "\n",
    "    conv4 = conv_block(pool3, num_filters*8)\n",
    "    pool4 = MaxPooling2D(pool_size=(2, 2))(conv4)\n",
    "    pool4 = Dropout(dropout_rate)(pool4)\n",
    "\n",
    "    # Bottleneck\n",
    "    conv5 = conv_block(pool4, num_filters*16)\n",
    "    conv5 = Dropout(dropout_rate)(conv5)\n",
    "\n",
    "    # Decoder (upsampling)\n",
    "    up6 = upsample_concat_block(conv5, conv4, num_filters*8)\n",
    "    up6 = Dropout(dropout_rate)(up6)\n",
    "\n",
    "    up7 = upsample_concat_block(up6, conv3, num_filters*4)\n",
    "    up7 = Dropout(dropout_rate)(up7)\n",
    "\n",
    "    up8 = upsample_concat_block(up7, conv2, num_filters*2)\n",
    "\n",
    "    up9 = upsample_concat_block(up8, conv1, num_filters)\n",
    "\n",
    "    # Output layer\n",
    "    outputs = Conv2D(1, (1, 1), activation='sigmoid')(up9)\n",
    "\n",
    "    model = Model(inputs=inputs, outputs=outputs, name='NestedUNet')\n",
    "    return model"
   ]
  },
  {
   "cell_type": "markdown",
   "id": "6fb39048-2a30-454c-ad59-fa751184cbd2",
   "metadata": {},
   "source": [
    "### 网络实例化"
   ]
  },
  {
   "cell_type": "code",
   "execution_count": 4,
   "id": "dc897bc5-4ea9-46e8-8906-31a56ab9d5cc",
   "metadata": {
    "tags": []
   },
   "outputs": [
    {
     "name": "stderr",
     "output_type": "stream",
     "text": [
      "2024-07-15 21:13:34.482021: I tensorflow/core/common_runtime/gpu/gpu_device.cc:1639] Created device /job:localhost/replica:0/task:0/device:GPU:0 with 9797 MB memory:  -> device: 0, name: NVIDIA GeForce RTX 2080 Ti, pci bus id: 0000:41:00.0, compute capability: 7.5\n"
     ]
    }
   ],
   "source": [
    "model = Unet(224 , 224 , 64)"
   ]
  },
  {
   "cell_type": "code",
   "execution_count": 4,
   "id": "df2227f5-116e-41d7-a7a7-9111c076421e",
   "metadata": {
    "tags": []
   },
   "outputs": [
    {
     "name": "stderr",
     "output_type": "stream",
     "text": [
      "2024-07-24 16:26:24.782512: I tensorflow/core/common_runtime/gpu/gpu_device.cc:1639] Created device /job:localhost/replica:0/task:0/device:GPU:0 with 9797 MB memory:  -> device: 0, name: NVIDIA GeForce RTX 2080 Ti, pci bus id: 0000:41:00.0, compute capability: 7.5\n"
     ]
    }
   ],
   "source": [
    "model = NestedUNet(input_shape=(256, 256, 3), num_filters=64)"
   ]
  },
  {
   "cell_type": "markdown",
   "id": "8760406f-a835-46fa-afb5-23cf92149c86",
   "metadata": {},
   "source": [
    "### 模型评价指标"
   ]
  },
  {
   "cell_type": "code",
   "execution_count": 5,
   "id": "5b5e94c9-e92b-46c6-b655-af2bbae94923",
   "metadata": {
    "tags": []
   },
   "outputs": [],
   "source": [
    "def dice_coef(y_true, y_pred, smooth=1):\n",
    "    y_true_f = K.flatten(y_true)\n",
    "    y_pred_f = K.flatten(y_pred)\n",
    "    intersection = K.sum(y_true_f * y_pred_f)\n",
    "    return (2. * intersection + smooth) / (K.sum(y_true_f) + K.sum(y_pred_f) + smooth)\n",
    "\n",
    "def iou(y_true, y_pred, smooth=1):\n",
    "    intersection = K.sum(K.abs(y_true * y_pred), axis=[1,2,3])\n",
    "    union = K.sum(y_true,[1,2,3])+K.sum(y_pred,[1,2,3])-intersection\n",
    "    return K.mean((intersection + smooth) / (union + smooth), axis=0)\n",
    "\n",
    "def recall(y_true, y_pred):\n",
    "    true_positives = K.sum(K.round(K.clip(y_true * y_pred, 0, 1)))\n",
    "    possible_positives = K.sum(K.round(K.clip(y_true, 0, 1)))\n",
    "    recall = true_positives / (possible_positives + K.epsilon())\n",
    "    return recall\n",
    "\n",
    "def precision(y_true, y_pred):\n",
    "    true_positives = K.sum(K.round(K.clip(y_true * y_pred, 0, 1)))\n",
    "    predicted_positives = K.sum(K.round(K.clip(y_pred, 0, 1)))\n",
    "    precision = true_positives / (predicted_positives + K.epsilon())\n",
    "    return precision\n",
    "\n",
    "model.compile(optimizer='adam', loss='binary_crossentropy', metrics=[dice_coef, iou, recall, precision])"
   ]
  },
  {
   "cell_type": "markdown",
   "id": "168283cc-6437-4251-928e-6fbfdcb11175",
   "metadata": {},
   "source": [
    "### 模型加载"
   ]
  },
  {
   "cell_type": "code",
   "execution_count": 6,
   "id": "b967df1b-729a-4449-bc5d-7dec7612f355",
   "metadata": {
    "tags": []
   },
   "outputs": [],
   "source": [
    "# 加载模型时提供自定义对象\n",
    "custom_objects = {\n",
    "    'dice_coef': dice_coef,\n",
    "    'iou': iou,\n",
    "    'recall': recall,\n",
    "    'precision': precision\n",
    "}\n",
    "\n",
    "model = tf.keras.models.load_model('result/complete_model.h5', custom_objects=custom_objects)\n",
    "\n",
    "# 加载模型的权重\n",
    "# model.load_weights('result/complete_model_weights_only.h5')"
   ]
  },
  {
   "cell_type": "markdown",
   "id": "73a1e40a-6eda-4190-b211-a12d7c448218",
   "metadata": {},
   "source": [
    "### 进行预测 "
   ]
  },
  {
   "cell_type": "code",
   "execution_count": 7,
   "id": "1f21c43f-ed5f-454d-9a36-55055dfa7670",
   "metadata": {
    "tags": []
   },
   "outputs": [],
   "source": [
    "def make_prediction(model,image,shape):\n",
    "    img = img_to_array(load_img(image,target_size=shape))\n",
    "    img = np.expand_dims(img,axis=0)/255.\n",
    "    mask = model.predict(img)\n",
    "    \n",
    "    mask = (mask[0] > 0.5)*1\n",
    "#     print(np.unique(mask,return_counts=True))\n",
    "    mask = np.reshape(mask,(256,256))\n",
    "    return mask   "
   ]
  },
  {
   "cell_type": "markdown",
   "id": "abb6df6e-efcf-4cf6-a6e0-4bcf28bfedf7",
   "metadata": {},
   "source": [
    "#### 原始图片"
   ]
  },
  {
   "cell_type": "code",
   "execution_count": 13,
   "id": "523a4901-856d-48bb-bef9-d2659d86c12a",
   "metadata": {
    "tags": []
   },
   "outputs": [],
   "source": [
    "image = \"../autodl-tmp/Endovis18/Train/images/seq_3_frame027.png\"\n",
    "img = img_to_array(load_img(image))"
   ]
  },
  {
   "cell_type": "markdown",
   "id": "cb42410e-d59b-4015-985b-8020e862877b",
   "metadata": {},
   "source": [
    "#### 预测图片"
   ]
  },
  {
   "cell_type": "code",
   "execution_count": 14,
   "id": "33a1b34c-d3b2-4466-8e4b-f02e06a90132",
   "metadata": {
    "tags": []
   },
   "outputs": [
    {
     "name": "stdout",
     "output_type": "stream",
     "text": [
      "1/1 [==============================] - 0s 23ms/step\n",
      "(1024, 1280, 3) (256, 256, 3)\n"
     ]
    }
   ],
   "source": [
    "mask = make_prediction(model,image,(256, 256, 3))\n",
    "mask2 = cv2.merge([mask,mask,mask]).astype('float32')\n",
    "print(img.shape,mask2.shape)\n",
    "mask2 = cv2.resize(mask2,(img.shape[1],img.shape[0]))"
   ]
  },
  {
   "cell_type": "markdown",
   "id": "0cdd539d-2d6c-43d0-8901-f836a0e7981c",
   "metadata": {},
   "source": [
    "#### 截取图片"
   ]
  },
  {
   "cell_type": "code",
   "execution_count": 15,
   "id": "3f7312bb-b83a-4794-bffe-2e880205d70e",
   "metadata": {
    "tags": []
   },
   "outputs": [],
   "source": [
    "h,w = img.shape[:2]\n",
    "mask_resized = cv2.resize(np.uint8(mask*1),(w,h))\n",
    "mask_resized = mask_resized != 0\n",
    "#print(np.unique(mask_resized,return_counts=True))\n",
    "segment = np.zeros((h,w,3))\n",
    "segment[:,:,0] = img[:,:,0]*mask_resized\n",
    "segment[:,:,1] = img[:,:,1]*mask_resized\n",
    "segment[:,:,2] = img[:,:,2]*mask_resized\n",
    "# segment[np.where((segment == [0,0,0]).all(axis=2))] = [0,0,0]\n",
    "img[np.where((img==[255,255,255]).all(axis=2))] = [0,0,0];"
   ]
  },
  {
   "cell_type": "code",
   "execution_count": 16,
   "id": "2e4fb9b2-05c4-441d-8654-2e0a62d39f34",
   "metadata": {
    "tags": []
   },
   "outputs": [
    {
     "data": {
      "text/plain": [
       "<Figure size 640x480 with 0 Axes>"
      ]
     },
     "metadata": {},
     "output_type": "display_data"
    },
    {
     "data": {
      "image/png": "[encoded data removed]",
      "text/plain": [
       "<Figure size 640x480 with 3 Axes>"
      ]
     },
     "metadata": {},
     "output_type": "display_data"
    }
   ],
   "source": [
    "plt.figure()\n",
    "fig, ax = plt.subplots(1, 3)\n",
    "fig.tight_layout()\n",
    "plt.subplot(131)\n",
    "plt.imshow(img/255.)\n",
    "\n",
    "plt.subplot(132)\n",
    "plt.imshow(mask2)\n",
    "\n",
    "plt.subplot(133)\n",
    "plt.imshow(segment/255.)\n",
    "\n",
    "plt.savefig(\"val_test1\")"
   ]
  },
  {
   "cell_type": "code",
   "execution_count": null,
   "id": "32874c99-5dbf-47bc-b6d1-d0b38294eaa1",
   "metadata": {},
   "outputs": [],
   "source": []
  }
 ],
 "metadata": {
  "kernelspec": {
   "display_name": "Python 3 (ipykernel)",
   "language": "python",
   "name": "python3"
  },
  "language_info": {
   "codemirror_mode": {
    "name": "ipython",
    "version": 3
   },
   "file_extension": ".py",
   "mimetype": "text/x-python",
   "name": "python",
   "nbconvert_exporter": "python",
   "pygments_lexer": "ipython3",
   "version": "3.8.10"
  }
 },
 "nbformat": 4,
 "nbformat_minor": 5
}
